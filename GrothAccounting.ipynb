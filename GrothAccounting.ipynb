{
  "nbformat": 4,
  "nbformat_minor": 0,
  "metadata": {
    "colab": {
      "provenance": [],
      "authorship_tag": "ABX9TyPzhaUYErJb2U4JjCIvrE5t",
      "include_colab_link": true
    },
    "kernelspec": {
      "name": "python3",
      "display_name": "Python 3"
    },
    "language_info": {
      "name": "python"
    }
  },
  "cells": [
    {
      "cell_type": "markdown",
      "metadata": {
        "id": "view-in-github",
        "colab_type": "text"
      },
      "source": [
        "<a href=\"https://colab.research.google.com/github/myoshi1212/quantmacro/blob/main/GrothAccounting.ipynb\" target=\"_parent\"><img src=\"https://colab.research.google.com/assets/colab-badge.svg\" alt=\"Open In Colab\"/></a>"
      ]
    },
    {
      "cell_type": "code",
      "execution_count": 39,
      "metadata": {
        "id": "F9HL4PuT8dP5",
        "colab": {
          "base_uri": "https://localhost:8080/"
        },
        "outputId": "20179fd2-5082-4291-e96d-027a6d3a671e"
      },
      "outputs": [
        {
          "output_type": "stream",
          "name": "stdout",
          "text": [
            "           Country  Growth Rate  TFP Growth  Capital Deepening  TFP Share  \\\n",
            "0        Australia     1.191826    0.692145           0.433507  58.074347   \n",
            "1          Austria     1.455530    0.590339           0.785567  40.558343   \n",
            "2          Belgium     1.388993    0.499884           0.688190  35.988939   \n",
            "3           Canada     0.929646    0.188247           0.545347  20.249331   \n",
            "4          Denmark     1.503476    0.785171           0.606466  52.223698   \n",
            "5          Finland     1.890487    0.886188           0.822171  46.876157   \n",
            "6           France     1.362772    0.705003           0.565098  51.733040   \n",
            "7          Germany     1.470326    0.995389           0.590177  67.698538   \n",
            "8           Greece     0.724438   -0.423439           0.765961 -58.450699   \n",
            "9          Iceland     1.839406    1.245772           0.404489  67.726851   \n",
            "10         Ireland     3.218370    1.630199           1.575644  50.652951   \n",
            "11           Italy     0.994157   -0.178337           0.834675 -17.938515   \n",
            "12           Japan     1.661826    0.656311           0.962280  39.493356   \n",
            "13     Netherlands     1.014316    0.577775           0.343157  56.962066   \n",
            "14     New Zealand     1.012692    0.274038           0.705183  27.060394   \n",
            "15          Norway     1.468246    0.603031           0.844819  41.071524   \n",
            "16        Portugal     1.533141    0.127735           0.828116   8.331588   \n",
            "17           Spain     1.419609    0.364434           0.817262  25.671414   \n",
            "18          Sweden     1.617169    0.745385           0.598015  46.091930   \n",
            "19     Switzerland     0.730466    0.422904           0.409000  57.895081   \n",
            "20  United Kingdom     1.586295    0.599843           0.731336  37.814096   \n",
            "21   United States     1.504062    0.922604           0.409847  61.340801   \n",
            "22         Average     1.432602    0.586846           0.693923  37.142056   \n",
            "\n",
            "    Capital Share  \n",
            "0       36.373336  \n",
            "1       53.971195  \n",
            "2       49.545975  \n",
            "3       58.661764  \n",
            "4       40.337591  \n",
            "5       43.489910  \n",
            "6       41.466775  \n",
            "7       40.139234  \n",
            "8      105.731681  \n",
            "9       21.990213  \n",
            "10      48.957845  \n",
            "11      83.958078  \n",
            "12      57.905004  \n",
            "13      33.831317  \n",
            "14      69.634507  \n",
            "15      57.539331  \n",
            "16      54.014371  \n",
            "17      57.569505  \n",
            "18      36.979095  \n",
            "19      55.991656  \n",
            "20      46.103439  \n",
            "21      27.249350  \n",
            "22      50.974599  \n"
          ]
        }
      ],
      "source": [
        "import pandas as pd\n",
        "import numpy as np\n",
        "\n",
        "def calculate_average_growth_rate(data, start_year, end_year, column):\n",
        "    start_value = data.loc[data['year'] == start_year, column].iloc[0]\n",
        "    end_value = data.loc[data['year'] == end_year, column].iloc[0]\n",
        "    years = end_year - start_year\n",
        "    avg_growth_rate = np.exp(np.log(end_value / start_value) / years) - 1\n",
        "    return avg_growth_rate * 100  # Convert to percentage\n",
        "\n",
        "# Load data\n",
        "pwt1001 = pd.read_stata('https://dataverse.nl/api/access/datafile/354098')\n",
        "\n",
        "# Filter and select relevant columns\n",
        "countries = ['Australia', 'Austria', 'Belgium', 'Canada', 'Denmark', 'Finland', 'France', 'Germany', 'Greece', 'Iceland', 'Ireland', 'Italy', 'Japan', 'Netherlands', 'New Zealand', 'Norway', 'Portugal', 'Spain', 'Sweden', 'Switzerland', 'United Kingdom', 'United States']\n",
        "data = pwt1001.loc[pwt1001['country'].isin(countries)][['year', 'countrycode', 'country', 'rgdpna', 'rnna', 'emp', 'avh', 'labsh', 'hc']]\n",
        "data = data.loc[(data['year'] >= 1975) & (data['year'] <= 2019)].dropna()\n",
        "\n",
        "# Calculate additional variables\n",
        "data['alpha'] = 1 - data['labsh']\n",
        "data['y_n'] = data['rgdpna'] / data['emp']  # Y/N\n",
        "data['k_n'] = data['rnna'] / data['emp']   # K/L\n",
        "data['hc_n'] = data['hc']\n",
        "data['hours_n'] = data['avh']\n",
        "\n",
        "# Initialize results list\n",
        "results = []\n",
        "\n",
        "# Calculate growth rate for each country and store results\n",
        "for country in countries:\n",
        "    country_data = data[data['country'] == country]\n",
        "    if country_data.empty:\n",
        "        print(f\"No data for {country}\")\n",
        "        continue\n",
        "\n",
        "    alpha = country_data['alpha'].mean()\n",
        "    gdp_growth = calculate_average_growth_rate(country_data, 1975, 2019, 'y_n')\n",
        "    capital_deepening = calculate_average_growth_rate(country_data, 1975, 2019, 'k_n') * alpha\n",
        "    hc_growth = calculate_average_growth_rate(country_data, 1975, 2019, 'hc_n')\n",
        "    hours_growth = calculate_average_growth_rate(country_data, 1975, 2019, 'hours_n')\n",
        "    labor_growth = (1 - alpha) * (hc_growth + hours_growth)\n",
        "    tfp_growth = gdp_growth - capital_deepening - labor_growth\n",
        "    tfp_share = tfp_growth / gdp_growth * 100  # Convert to percentage\n",
        "    capital_share = capital_deepening / gdp_growth * 100  # Convert to percentage\n",
        "\n",
        "    results.append({\n",
        "        'Country': country,\n",
        "        'Growth Rate': gdp_growth,\n",
        "        'TFP Growth': tfp_growth,\n",
        "        'Capital Deepening': capital_deepening,\n",
        "        'TFP Share': tfp_share,\n",
        "        'Capital Share': capital_share\n",
        "    })\n",
        "\n",
        "# Create DataFrame from results\n",
        "growth_accounting_table = pd.DataFrame(results)\n",
        "\n",
        "# Calculate averages for each column\n",
        "average_row = growth_accounting_table.mean(numeric_only=True).to_dict()\n",
        "average_row['Country'] = 'Average'\n",
        "\n",
        "# Convert the average row dictionary to a DataFrame\n",
        "average_df = pd.DataFrame([average_row])\n",
        "\n",
        "# Concatenate the original DataFrame with the average row DataFrame\n",
        "growth_accounting_table = pd.concat([growth_accounting_table, average_df], ignore_index=True)\n",
        "\n",
        "print(growth_accounting_table)\n"
      ]
    }
  ]
}